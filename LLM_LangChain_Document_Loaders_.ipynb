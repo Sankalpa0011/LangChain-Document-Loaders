{
  "cells": [
    {
      "cell_type": "markdown",
      "metadata": {
        "id": "view-in-github",
        "colab_type": "text"
      },
      "source": [
        "<a href=\"https://colab.research.google.com/github/Sankalpa0011/LLM-LangChain-Document-Loaders/blob/main/LLM_LangChain_Document_Loaders_.ipynb\" target=\"_parent\"><img src=\"https://colab.research.google.com/assets/colab-badge.svg\" alt=\"Open In Colab\"/></a>"
      ]
    },
    {
      "cell_type": "code",
      "execution_count": null,
      "metadata": {
        "colab": {
          "background_save": true
        },
        "id": "Rp3pMEYjvVCF",
        "outputId": "b7298be7-3bfd-4b88-ac15-2c541ca87933"
      },
      "outputs": [
        {
          "name": "stdout",
          "output_type": "stream",
          "text": [
            "Drive already mounted at /content/drive; to attempt to forcibly remount, call drive.mount(\"/content/drive\", force_remount=True).\n"
          ]
        }
      ],
      "source": [
        "from google.colab import drive\n",
        "drive.mount('/content/drive')"
      ]
    },
    {
      "cell_type": "markdown",
      "source": [
        "## **Install Libraries**"
      ],
      "metadata": {
        "id": "ECkrNqi51q4U"
      }
    },
    {
      "cell_type": "code",
      "execution_count": null,
      "metadata": {
        "id": "8UJV-8YqocHX"
      },
      "outputs": [],
      "source": [
        "!pip install langchain -qU\n",
        "!pip install langchain-community -qU"
      ]
    },
    {
      "cell_type": "markdown",
      "source": [
        "# **Loading Text Files**"
      ],
      "metadata": {
        "id": "9toQ4XU323Ti"
      }
    },
    {
      "cell_type": "code",
      "source": [
        "from langchain_community.document_loaders import TextLoader\n",
        "\n",
        "# initialize the TextLoader with the path to the text file\n",
        "loader = TextLoader(\"/content/drive/MyDrive/CodeProLK DL/LangChain Document Loaders/data/example_txt_file.txt\")\n",
        "\n",
        "# load the text data\n",
        "txt_data = loader.load()\n",
        "\n",
        "print(txt_data)"
      ],
      "metadata": {
        "colab": {
          "base_uri": "https://localhost:8080/"
        },
        "id": "XSKUeC-Q13Ww",
        "outputId": "1e292f3f-b0af-403b-a092-1242ae753bc0"
      },
      "execution_count": null,
      "outputs": [
        {
          "output_type": "stream",
          "name": "stdout",
          "text": [
            "[Document(metadata={'source': '/content/drive/MyDrive/CodeProLK DL/LangChain Document Loaders/data/example_txt_file.txt'}, page_content=\"Sri Lanka's national cricket team achieved a historic milestone by winning the ICC Cricket World Cup in 1996. \\nThe team is known for producing cricket legends like Muttiah Muralitharan, the highest wicket-taker in Test cricket history. \\nKumar Sangakkara and Mahela Jayawardene are celebrated for their prolific batting partnerships. \\nSanath Jayasuriya revolutionized one-day cricket with his explosive batting style. \\nThe Galle International Stadium, with its stunning backdrop of the Galle Fort, is one of the world's most picturesque cricket venues. \\nSri Lanka won the ICC T20 World Cup in 2014, demonstrating their prowess in the shortest format of the game. \\nLasith Malinga, famous for his unique bowling action and lethal yorkers, has been a key player in their T20 success. \\nCricket is deeply embedded in Sri Lankan culture, uniting people from all walks of life during major tournaments.\")]\n"
          ]
        }
      ]
    },
    {
      "cell_type": "code",
      "source": [
        "txt_data[0].page_content  # [0] becouse loaded only one file and its on 0th index"
      ],
      "metadata": {
        "colab": {
          "base_uri": "https://localhost:8080/",
          "height": 105
        },
        "id": "_37zJ6qr3EUc",
        "outputId": "0224e23c-29c4-481d-96e4-67f38b752c8a"
      },
      "execution_count": null,
      "outputs": [
        {
          "output_type": "execute_result",
          "data": {
            "text/plain": [
              "\"Sri Lanka's national cricket team achieved a historic milestone by winning the ICC Cricket World Cup in 1996. \\nThe team is known for producing cricket legends like Muttiah Muralitharan, the highest wicket-taker in Test cricket history. \\nKumar Sangakkara and Mahela Jayawardene are celebrated for their prolific batting partnerships. \\nSanath Jayasuriya revolutionized one-day cricket with his explosive batting style. \\nThe Galle International Stadium, with its stunning backdrop of the Galle Fort, is one of the world's most picturesque cricket venues. \\nSri Lanka won the ICC T20 World Cup in 2014, demonstrating their prowess in the shortest format of the game. \\nLasith Malinga, famous for his unique bowling action and lethal yorkers, has been a key player in their T20 success. \\nCricket is deeply embedded in Sri Lankan culture, uniting people from all walks of life during major tournaments.\""
            ],
            "application/vnd.google.colaboratory.intrinsic+json": {
              "type": "string"
            }
          },
          "metadata": {},
          "execution_count": 8
        }
      ]
    },
    {
      "cell_type": "code",
      "source": [
        "txt_data[0].metadata"
      ],
      "metadata": {
        "colab": {
          "base_uri": "https://localhost:8080/"
        },
        "id": "XB2Fz4FN3I1n",
        "outputId": "a628a4ba-84b6-4747-8f84-829a9d06b286"
      },
      "execution_count": null,
      "outputs": [
        {
          "output_type": "execute_result",
          "data": {
            "text/plain": [
              "{'source': '/content/drive/MyDrive/CodeProLK DL/LangChain Document Loaders/data/example_txt_file.txt'}"
            ]
          },
          "metadata": {},
          "execution_count": 9
        }
      ]
    },
    {
      "cell_type": "markdown",
      "source": [
        "# **Loading Text Files From A Directory**"
      ],
      "metadata": {
        "id": "XLv0dDJV4HAs"
      }
    },
    {
      "cell_type": "code",
      "source": [
        "!pip install unstructured -qU"
      ],
      "metadata": {
        "colab": {
          "base_uri": "https://localhost:8080/"
        },
        "id": "ivGISsNa4M4C",
        "outputId": "27394b91-3877-4412-b79c-3a78b162b6cc"
      },
      "execution_count": null,
      "outputs": [
        {
          "output_type": "stream",
          "name": "stdout",
          "text": [
            "\u001b[?25l     \u001b[90m━━━━━━━━━━━━━━━━━━━━━━━━━━━━━━━━━━━━━━━━\u001b[0m \u001b[32m0.0/981.5 kB\u001b[0m \u001b[31m?\u001b[0m eta \u001b[36m-:--:--\u001b[0m\r\u001b[2K     \u001b[91m━━━━━━━━━━━━━━━━\u001b[0m\u001b[90m╺\u001b[0m\u001b[90m━━━━━━━━━━━━━━━━━━━━━━━\u001b[0m \u001b[32m399.4/981.5 kB\u001b[0m \u001b[31m12.8 MB/s\u001b[0m eta \u001b[36m0:00:01\u001b[0m\r\u001b[2K     \u001b[90m━━━━━━━━━━━━━━━━━━━━━━━━━━━━━━━━━━━━━━━━\u001b[0m \u001b[32m981.5/981.5 kB\u001b[0m \u001b[31m12.5 MB/s\u001b[0m eta \u001b[36m0:00:00\u001b[0m\n",
            "\u001b[?25h  Preparing metadata (setup.py) ... \u001b[?25l\u001b[?25hdone\n",
            "\u001b[2K   \u001b[90m━━━━━━━━━━━━━━━━━━━━━━━━━━━━━━━━━━━━━━━━\u001b[0m \u001b[32m2.1/2.1 MB\u001b[0m \u001b[31m48.6 MB/s\u001b[0m eta \u001b[36m0:00:00\u001b[0m\n",
            "\u001b[2K   \u001b[90m━━━━━━━━━━━━━━━━━━━━━━━━━━━━━━━━━━━━━━━━\u001b[0m \u001b[32m431.4/431.4 kB\u001b[0m \u001b[31m27.5 MB/s\u001b[0m eta \u001b[36m0:00:00\u001b[0m\n",
            "\u001b[2K   \u001b[90m━━━━━━━━━━━━━━━━━━━━━━━━━━━━━━━━━━━━━━━━\u001b[0m \u001b[32m274.7/274.7 kB\u001b[0m \u001b[31m18.5 MB/s\u001b[0m eta \u001b[36m0:00:00\u001b[0m\n",
            "\u001b[2K   \u001b[90m━━━━━━━━━━━━━━━━━━━━━━━━━━━━━━━━━━━━━━━━\u001b[0m \u001b[32m3.4/3.4 MB\u001b[0m \u001b[31m57.1 MB/s\u001b[0m eta \u001b[36m0:00:00\u001b[0m\n",
            "\u001b[2K   \u001b[90m━━━━━━━━━━━━━━━━━━━━━━━━━━━━━━━━━━━━━━━━\u001b[0m \u001b[32m41.9/41.9 kB\u001b[0m \u001b[31m2.6 MB/s\u001b[0m eta \u001b[36m0:00:00\u001b[0m\n",
            "\u001b[2K   \u001b[90m━━━━━━━━━━━━━━━━━━━━━━━━━━━━━━━━━━━━━━━━\u001b[0m \u001b[32m80.8/80.8 kB\u001b[0m \u001b[31m5.0 MB/s\u001b[0m eta \u001b[36m0:00:00\u001b[0m\n",
            "\u001b[2K   \u001b[90m━━━━━━━━━━━━━━━━━━━━━━━━━━━━━━━━━━━━━━━━\u001b[0m \u001b[32m75.6/75.6 kB\u001b[0m \u001b[31m5.2 MB/s\u001b[0m eta \u001b[36m0:00:00\u001b[0m\n",
            "\u001b[2K   \u001b[90m━━━━━━━━━━━━━━━━━━━━━━━━━━━━━━━━━━━━━━━━\u001b[0m \u001b[32m77.9/77.9 kB\u001b[0m \u001b[31m4.7 MB/s\u001b[0m eta \u001b[36m0:00:00\u001b[0m\n",
            "\u001b[2K   \u001b[90m━━━━━━━━━━━━━━━━━━━━━━━━━━━━━━━━━━━━━━━━\u001b[0m \u001b[32m295.8/295.8 kB\u001b[0m \u001b[31m14.3 MB/s\u001b[0m eta \u001b[36m0:00:00\u001b[0m\n",
            "\u001b[2K   \u001b[90m━━━━━━━━━━━━━━━━━━━━━━━━━━━━━━━━━━━━━━━━\u001b[0m \u001b[32m54.5/54.5 kB\u001b[0m \u001b[31m1.8 MB/s\u001b[0m eta \u001b[36m0:00:00\u001b[0m\n",
            "\u001b[2K   \u001b[90m━━━━━━━━━━━━━━━━━━━━━━━━━━━━━━━━━━━━━━━━\u001b[0m \u001b[32m58.3/58.3 kB\u001b[0m \u001b[31m4.4 MB/s\u001b[0m eta \u001b[36m0:00:00\u001b[0m\n",
            "\u001b[?25h  Building wheel for langdetect (setup.py) ... \u001b[?25l\u001b[?25hdone\n"
          ]
        }
      ]
    },
    {
      "cell_type": "code",
      "source": [
        "from langchain_community.document_loaders import DirectoryLoader\n",
        "\n",
        "# initialize the DirectoryLoader with the path to the directory\n",
        "loader = DirectoryLoader(\"/content/drive/MyDrive/CodeProLK DL/LangChain Document Loaders/data/txt_folder\", glob=\"**/*.txt\")\n",
        "\n",
        "# load the text data\n",
        "txt_folder_data = loader.load()\n",
        "\n",
        "for data in txt_folder_data:\n",
        "  print(\"------------------------------------------------------------------------------------------------------------------------------\")\n",
        "  print(\"\\nContent\")\n",
        "  print(data.page_content)\n",
        "  print(\"\\nMetadata\")\n",
        "  print(data.metadata)"
      ],
      "metadata": {
        "colab": {
          "base_uri": "https://localhost:8080/"
        },
        "id": "5KXgzqAdISSs",
        "outputId": "ead96119-f98d-4b28-e39d-5fa8388533b1"
      },
      "execution_count": null,
      "outputs": [
        {
          "output_type": "stream",
          "name": "stdout",
          "text": [
            "------------------------------------------------------------------------------------------------------------------------------\n",
            "\n",
            "Content\n",
            "The AI revolution continues to transform industries and reshape the global economy.\n",
            "\n",
            "Significant advancements in artificial intelligence have led to breakthroughs in healthcare, with AI-driven diagnostics improving patient outcomes and reducing costs.\n",
            "\n",
            "Autonomous systems are becoming increasingly prevalent in logistics and transportation, enhancing efficiency and safety.\n",
            "\n",
            "Metadata\n",
            "{'source': '/content/drive/MyDrive/CodeProLK DL/LangChain Document Loaders/data/txt_folder/ai_news.txt'}\n",
            "------------------------------------------------------------------------------------------------------------------------------\n",
            "\n",
            "Content\n",
            "The T20 World Cup 2024 is in full swing, bringing excitement and drama to cricket fans worldwide.\n",
            "\n",
            "India's team, captained by Rohit Sharma, is preparing for a crucial match against Ireland, with standout player Jasprit Bumrah expected to play a pivotal role in their campaign.\n",
            "\n",
            "The tournament has already seen controversy, particularly concerning the pitch conditions at Nassau County International Cricket Stadium in New York, which came under fire after a low-scoring game between Sri Lanka and South Africa.\n",
            "\n",
            "Metadata\n",
            "{'source': '/content/drive/MyDrive/CodeProLK DL/LangChain Document Loaders/data/txt_folder/cricket_news.txt'}\n",
            "------------------------------------------------------------------------------------------------------------------------------\n",
            "\n",
            "Content\n",
            "The world of football is buzzing with excitement as major tournaments and league matches continue to captivate fans globally.\n",
            "\n",
            "In the UEFA Champions League, the semi-final matchups have been set, with defending champions Real Madrid set to face Manchester City, while Bayern Munich will take on Paris Saint-Germain.\n",
            "\n",
            "Both ties promise thrilling encounters, featuring some of the best talents in world football\n",
            "\n",
            "Metadata\n",
            "{'source': '/content/drive/MyDrive/CodeProLK DL/LangChain Document Loaders/data/txt_folder/football_news.txt'}\n",
            "------------------------------------------------------------------------------------------------------------------------------\n",
            "\n",
            "Content\n",
            "As election season heats up, the latest developments reveal a highly competitive atmosphere across several key races.\n",
            "\n",
            "The presidential election has seen intense campaigning from all major candidates, with recent polls indicating a tight race.\n",
            "\n",
            "Incumbent President Jane Doe is seeking re-election on a platform of economic stability and healthcare reform, while her main rival, Senator John Smith, focuses on education and climate change initiatives.\n",
            "\n",
            "Metadata\n",
            "{'source': '/content/drive/MyDrive/CodeProLK DL/LangChain Document Loaders/data/txt_folder/election_news.txt'}\n"
          ]
        }
      ]
    },
    {
      "cell_type": "markdown",
      "source": [
        "# **Loading PDF Files**"
      ],
      "metadata": {
        "id": "HtaW2jVwJLQc"
      }
    },
    {
      "cell_type": "code",
      "source": [
        "!pip install pypdf -qU"
      ],
      "metadata": {
        "id": "yX6LaTF_Iow9"
      },
      "execution_count": null,
      "outputs": []
    },
    {
      "cell_type": "code",
      "source": [
        "from langchain_community.document_loaders import PyPDFLoader\n",
        "\n",
        "# initialize the PyPDFLoader with the path to the PDF file\n",
        "loader = PyPDFLoader(\"/content/drive/MyDrive/CodeProLK DL/LangChain Document Loaders/data/example_pdf_file.pdf\")\n",
        "\n",
        "# load the PDF data\n",
        "pdf_data = loader.load()\n",
        "\n",
        "print(pdf_data)"
      ],
      "metadata": {
        "colab": {
          "base_uri": "https://localhost:8080/"
        },
        "id": "OmI7TxGHJQaD",
        "outputId": "665c8f68-8e2a-4c88-f9e5-15252a7ff5ca"
      },
      "execution_count": null,
      "outputs": [
        {
          "output_type": "stream",
          "name": "stdout",
          "text": [
            "[Document(metadata={'source': '/content/drive/MyDrive/CodeProLK DL/LangChain Document Loaders/data/example_pdf_file.pdf', 'page': 0}, page_content=\"Sri Lanka's national cricket team achieved a historic milestone by winning the ICC Cricket World \\nCup in 1996.  \\nThe team is known for producing cricket legends like Muttiah Muralitharan, the highest wicket -taker \\nin Test cricket history.  \\nKumar Sangakkara and Mahela Jayawardene are celebrated for their prolific batting partnerships.  \\nSanath Jayasuriya revolutionized one -day cricket with his explosive batting style.  \\nThe Galle International Stadium, with its stunning backdrop of the Galle Fort, is one of the world's \\nmost picturesque cricket venues.  \\nSri Lanka won the ICC T20 World Cup in 2014, demonstrating their prowess in the shortest format of \\nthe game.  \\nLasith Malinga, famous for his unique bowling action and lethal yorkers, has been a key player in \\ntheir T20 success.  \\nCricket is deeply embedded in Sri Lankan culture, uniting people from all walks of life during major \\ntournaments.  \")]\n"
          ]
        }
      ]
    },
    {
      "cell_type": "code",
      "source": [
        "pdf_data[0].page_content  # [0] becouse loaded only one file and its on 0th index"
      ],
      "metadata": {
        "colab": {
          "base_uri": "https://localhost:8080/",
          "height": 122
        },
        "id": "eFl1vymjJn46",
        "outputId": "df508803-14ad-43e5-bc20-a8f4bc887782"
      },
      "execution_count": null,
      "outputs": [
        {
          "output_type": "execute_result",
          "data": {
            "text/plain": [
              "\"Sri Lanka's national cricket team achieved a historic milestone by winning the ICC Cricket World \\nCup in 1996.  \\nThe team is known for producing cricket legends like Muttiah Muralitharan, the highest wicket -taker \\nin Test cricket history.  \\nKumar Sangakkara and Mahela Jayawardene are celebrated for their prolific batting partnerships.  \\nSanath Jayasuriya revolutionized one -day cricket with his explosive batting style.  \\nThe Galle International Stadium, with its stunning backdrop of the Galle Fort, is one of the world's \\nmost picturesque cricket venues.  \\nSri Lanka won the ICC T20 World Cup in 2014, demonstrating their prowess in the shortest format of \\nthe game.  \\nLasith Malinga, famous for his unique bowling action and lethal yorkers, has been a key player in \\ntheir T20 success.  \\nCricket is deeply embedded in Sri Lankan culture, uniting people from all walks of life during major \\ntournaments.  \""
            ],
            "application/vnd.google.colaboratory.intrinsic+json": {
              "type": "string"
            }
          },
          "metadata": {},
          "execution_count": 19
        }
      ]
    },
    {
      "cell_type": "code",
      "source": [
        "pdf_data[0].metadata"
      ],
      "metadata": {
        "colab": {
          "base_uri": "https://localhost:8080/"
        },
        "id": "Wv-v4XlwJrrm",
        "outputId": "d74ca7c3-8147-41cd-afc6-405206900755"
      },
      "execution_count": null,
      "outputs": [
        {
          "output_type": "execute_result",
          "data": {
            "text/plain": [
              "{'source': '/content/drive/MyDrive/CodeProLK DL/LangChain Document Loaders/data/example_pdf_file.pdf',\n",
              " 'page': 0}"
            ]
          },
          "metadata": {},
          "execution_count": 20
        }
      ]
    },
    {
      "cell_type": "markdown",
      "source": [
        "# **Loading PDF Files From A Directory**"
      ],
      "metadata": {
        "id": "i8njPPGMJmGb"
      }
    },
    {
      "cell_type": "code",
      "source": [
        "from langchain_community.document_loaders import PyPDFDirectoryLoader\n",
        "\n",
        "# initialize the PyDirectoryLoader with the path to the directory\n",
        "loader = PyPDFDirectoryLoader(\"/content/drive/MyDrive/CodeProLK DL/LangChain Document Loaders/data/pdf_folder\", glob=\"**/*.pdf\")\n",
        "\n",
        "# load the PDF data\n",
        "pdf_folder_data = loader.load()\n",
        "\n",
        "for data in pdf_folder_data:\n",
        "  print(\"------------------------------------------------------------------------------------------------------------------------------\")\n",
        "  print(\"\\nContent\")\n",
        "  print(data.page_content)\n",
        "  print(\"\\nMetadata\")\n",
        "  print(data.metadata)"
      ],
      "metadata": {
        "colab": {
          "base_uri": "https://localhost:8080/"
        },
        "id": "QXLiPyFYJkOU",
        "outputId": "8a7770c6-0a98-4254-ff93-8551b7cc643c"
      },
      "execution_count": null,
      "outputs": [
        {
          "output_type": "stream",
          "name": "stdout",
          "text": [
            "------------------------------------------------------------------------------------------------------------------------------\n",
            "\n",
            "Content\n",
            "The AI revolution continues to transform industries and reshape the global economy.  \n",
            "Significant advancements in artificial intelligence have led to breakthroughs in healthcare, with AI -\n",
            "driven diagnostics improving patient outcomes and reducing costs.  \n",
            "Autonomous systems are becoming increasingly prevalent in logistics and transportation, \n",
            "enhancing efficiency and safety.  \n",
            "\n",
            "Metadata\n",
            "{'source': '/content/drive/MyDrive/CodeProLK DL/LangChain Document Loaders/data/pdf_folder/ai_news.pdf', 'page': 0}\n",
            "------------------------------------------------------------------------------------------------------------------------------\n",
            "\n",
            "Content\n",
            "As election season heats up, the latest developments reveal a highly competitive atmosphere \n",
            "across several key races.  \n",
            "The presidential election has seen intense campaigning from all major candidates, with recent \n",
            "polls indicating a tight race.  \n",
            "Incumbent President Jane Doe is seeking re -election on a platform of economic stability and \n",
            "healthcare reform, while her main rival, Senator John Smith, focuses on education and climate \n",
            "change initiatives.  \n",
            "\n",
            "Metadata\n",
            "{'source': '/content/drive/MyDrive/CodeProLK DL/LangChain Document Loaders/data/pdf_folder/election_news.pdf', 'page': 0}\n",
            "------------------------------------------------------------------------------------------------------------------------------\n",
            "\n",
            "Content\n",
            "The world of football is buzzing with excitement as major tournaments and league matches \n",
            "continue to captivate fans globally.  \n",
            "In the UEFA Champions League, the semi -final matchups have been set, with defending champions \n",
            "Real Madrid set to face Manchester City, while Bayern Munich will take on Paris Saint -Germain.  \n",
            "Both ties promise thrilling encounters, featuring some of the best talents in world football  \n",
            "\n",
            "Metadata\n",
            "{'source': '/content/drive/MyDrive/CodeProLK DL/LangChain Document Loaders/data/pdf_folder/football_news.pdf', 'page': 0}\n",
            "------------------------------------------------------------------------------------------------------------------------------\n",
            "\n",
            "Content\n",
            "The T20 World Cup 2024 is in full swing, bringing excitement and drama to cricket fans worldwide.  \n",
            "India's team, captained by Rohit Sharma, is preparing for a crucial match against Ireland, with \n",
            "standout player Jasprit Bumrah expected to play a pivotal role in their campaign.  \n",
            "The tournament has already seen controversy, particularly concerning the pitch conditions at \n",
            "Nassau County International Cricket Stadium in New York, which came under fire after a low -\n",
            "scoring game between Sri Lanka and South Africa.  \n",
            "\n",
            "Metadata\n",
            "{'source': '/content/drive/MyDrive/CodeProLK DL/LangChain Document Loaders/data/pdf_folder/cricket_news.pdf', 'page': 0}\n"
          ]
        }
      ]
    },
    {
      "cell_type": "markdown",
      "source": [
        "## **Loading CSV Files**"
      ],
      "metadata": {
        "id": "tue7xN4rKQHl"
      }
    },
    {
      "cell_type": "code",
      "source": [
        "from langchain_community.document_loaders import CSVLoader\n",
        "\n",
        "# initialize the CSVLoader with the path to the CSV file\n",
        "loader = CSVLoader(\"/content/drive/MyDrive/CodeProLK DL/LangChain Document Loaders/data/example_csv_file.csv\")\n",
        "\n",
        "# load the CSV data\n",
        "csv_data = loader.load()\n",
        "\n",
        "print(csv_data)"
      ],
      "metadata": {
        "colab": {
          "base_uri": "https://localhost:8080/"
        },
        "id": "Ff5wZ1uLKMpM",
        "outputId": "987094ee-40ae-488c-9de9-589f139c13c5"
      },
      "execution_count": null,
      "outputs": [
        {
          "output_type": "stream",
          "name": "stdout",
          "text": [
            "[Document(metadata={'source': '/content/drive/MyDrive/CodeProLK DL/LangChain Document Loaders/data/example_csv_file.csv', 'row': 0}, page_content='\\ufeffname: kamal\\ncity: colombo\\nresult: pass'), Document(metadata={'source': '/content/drive/MyDrive/CodeProLK DL/LangChain Document Loaders/data/example_csv_file.csv', 'row': 1}, page_content='\\ufeffname: saman\\ncity: kandy\\nresult: pass'), Document(metadata={'source': '/content/drive/MyDrive/CodeProLK DL/LangChain Document Loaders/data/example_csv_file.csv', 'row': 2}, page_content='\\ufeffname: pawan\\ncity: jaffna\\nresult: fail'), Document(metadata={'source': '/content/drive/MyDrive/CodeProLK DL/LangChain Document Loaders/data/example_csv_file.csv', 'row': 3}, page_content='\\ufeffname: nimal\\ncity: puttalam\\nresult: fail'), Document(metadata={'source': '/content/drive/MyDrive/CodeProLK DL/LangChain Document Loaders/data/example_csv_file.csv', 'row': 4}, page_content='\\ufeffname: sunil\\ncity: anuradapura\\nresult: pass')]\n"
          ]
        }
      ]
    },
    {
      "cell_type": "code",
      "source": [
        "csv_data[0]"
      ],
      "metadata": {
        "colab": {
          "base_uri": "https://localhost:8080/"
        },
        "id": "5GLZbRNpKmTr",
        "outputId": "34fd1fff-a032-40d2-a5cc-68e12ff4aaf7"
      },
      "execution_count": null,
      "outputs": [
        {
          "output_type": "execute_result",
          "data": {
            "text/plain": [
              "Document(metadata={'source': '/content/drive/MyDrive/CodeProLK DL/LangChain Document Loaders/data/example_csv_file.csv', 'row': 0}, page_content='\\ufeffname: kamal\\ncity: colombo\\nresult: pass')"
            ]
          },
          "metadata": {},
          "execution_count": 27
        }
      ]
    },
    {
      "cell_type": "code",
      "source": [
        "csv_data[0].page_content"
      ],
      "metadata": {
        "colab": {
          "base_uri": "https://localhost:8080/",
          "height": 36
        },
        "id": "1xnllCYfLBeW",
        "outputId": "9029d06a-b609-4c9e-e44a-ddf7d3dac011"
      },
      "execution_count": null,
      "outputs": [
        {
          "output_type": "execute_result",
          "data": {
            "text/plain": [
              "'\\ufeffname: kamal\\ncity: colombo\\nresult: pass'"
            ],
            "application/vnd.google.colaboratory.intrinsic+json": {
              "type": "string"
            }
          },
          "metadata": {},
          "execution_count": 28
        }
      ]
    },
    {
      "cell_type": "code",
      "source": [
        "csv_data[0].metadata"
      ],
      "metadata": {
        "colab": {
          "base_uri": "https://localhost:8080/"
        },
        "id": "XxLsDSHoKwiG",
        "outputId": "e753419b-4c47-4ae8-ff82-d4880b470b66"
      },
      "execution_count": null,
      "outputs": [
        {
          "output_type": "execute_result",
          "data": {
            "text/plain": [
              "{'source': '/content/drive/MyDrive/CodeProLK DL/LangChain Document Loaders/data/example_csv_file.csv',\n",
              " 'row': 0}"
            ]
          },
          "metadata": {},
          "execution_count": 26
        }
      ]
    },
    {
      "cell_type": "markdown",
      "source": [
        "# **Displaying HTML Data**"
      ],
      "metadata": {
        "id": "kcWcAHBfLGcb"
      }
    },
    {
      "cell_type": "code",
      "source": [
        "from langchain_community.document_loaders import BSHTMLLoader\n",
        "\n",
        "# initialize the BSHTMLLoader with the path to the HTML file\n",
        "loader = BSHTMLLoader(\"/content/drive/MyDrive/CodeProLK DL/LangChain Document Loaders/data/example_html_file.html\")\n",
        "\n",
        "# load the HTML data\n",
        "html_data = loader.load()\n",
        "\n",
        "print(html_data)"
      ],
      "metadata": {
        "colab": {
          "base_uri": "https://localhost:8080/"
        },
        "id": "QVAxfWBAKzRJ",
        "outputId": "eb172d54-e65f-46ac-ce29-10ceac5dbbc4"
      },
      "execution_count": null,
      "outputs": [
        {
          "output_type": "stream",
          "name": "stdout",
          "text": [
            "[Document(metadata={'source': '/content/drive/MyDrive/CodeProLK DL/LangChain Document Loaders/data/example_html_file.html', 'title': 'Sri Lanka Cricket'}, page_content=\"\\n\\n\\n\\nSri Lanka Cricket\\n\\n\\n\\n\\nSri Lanka Cricket\\nSri Lanka's national cricket team achieved a historic milestone by winning the ICC Cricket World Cup in 1996.\\nThe team is known for producing cricket legends like Muttiah Muralitharan, the highest wicket-taker in Test cricket history.\\nKumar Sangakkara and Mahela Jayawardene are celebrated for their prolific batting partnerships.\\nSanath Jayasuriya revolutionized one-day cricket with his explosive batting style.\\nThe Galle International Stadium, with its stunning backdrop of the Galle Fort, is one of the world's most picturesque cricket venues.\\nSri Lanka won the ICC T20 World Cup in 2014, demonstrating their prowess in the shortest format of the game.\\nLasith Malinga, famous for his unique bowling action and lethal yorkers, has been a key player in their T20 success.\\nCricket is deeply embedded in Sri Lankan culture, uniting people from all walks of life during major tournaments.\\n\\n\\n\\n\")]\n"
          ]
        }
      ]
    },
    {
      "cell_type": "code",
      "source": [
        "html_data[0].page_content"
      ],
      "metadata": {
        "colab": {
          "base_uri": "https://localhost:8080/",
          "height": 122
        },
        "id": "K1HRLJVyLgXJ",
        "outputId": "66a807dd-42fa-4972-89a4-60a1b8340590"
      },
      "execution_count": null,
      "outputs": [
        {
          "output_type": "execute_result",
          "data": {
            "text/plain": [
              "\"\\n\\n\\n\\nSri Lanka Cricket\\n\\n\\n\\n\\nSri Lanka Cricket\\nSri Lanka's national cricket team achieved a historic milestone by winning the ICC Cricket World Cup in 1996.\\nThe team is known for producing cricket legends like Muttiah Muralitharan, the highest wicket-taker in Test cricket history.\\nKumar Sangakkara and Mahela Jayawardene are celebrated for their prolific batting partnerships.\\nSanath Jayasuriya revolutionized one-day cricket with his explosive batting style.\\nThe Galle International Stadium, with its stunning backdrop of the Galle Fort, is one of the world's most picturesque cricket venues.\\nSri Lanka won the ICC T20 World Cup in 2014, demonstrating their prowess in the shortest format of the game.\\nLasith Malinga, famous for his unique bowling action and lethal yorkers, has been a key player in their T20 success.\\nCricket is deeply embedded in Sri Lankan culture, uniting people from all walks of life during major tournaments.\\n\\n\\n\\n\""
            ],
            "application/vnd.google.colaboratory.intrinsic+json": {
              "type": "string"
            }
          },
          "metadata": {},
          "execution_count": 30
        }
      ]
    },
    {
      "cell_type": "code",
      "source": [
        "html_data[0].metadata"
      ],
      "metadata": {
        "colab": {
          "base_uri": "https://localhost:8080/"
        },
        "id": "vJkPQKHSLiCi",
        "outputId": "6d175c25-67fb-4756-9a9c-430609b693b2"
      },
      "execution_count": null,
      "outputs": [
        {
          "output_type": "execute_result",
          "data": {
            "text/plain": [
              "{'source': '/content/drive/MyDrive/CodeProLK DL/LangChain Document Loaders/data/example_html_file.html',\n",
              " 'title': 'Sri Lanka Cricket'}"
            ]
          },
          "metadata": {},
          "execution_count": 31
        }
      ]
    }
  ],
  "metadata": {
    "colab": {
      "provenance": [],
      "mount_file_id": "1vfF4xyC0R3LpP8fXTk_EcyV5S3OCwOXV",
      "authorship_tag": "ABX9TyO1XC14XCD6DEUwv+naCEdu",
      "include_colab_link": true
    },
    "kernelspec": {
      "display_name": "Python 3",
      "name": "python3"
    },
    "language_info": {
      "name": "python"
    }
  },
  "nbformat": 4,
  "nbformat_minor": 0
}